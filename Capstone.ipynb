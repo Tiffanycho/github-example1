{
 "cells": [
  {
   "cell_type": "markdown",
   "metadata": {},
   "source": [
    "# SETTING UP ICE CREAM SHOP IN SINGAPORE"
   ]
  },
  {
   "cell_type": "markdown",
   "metadata": {},
   "source": [
    "## INTRODUCTION\n",
    "Mr. Smith has decided to venture into the business of selling ice-cream in Singapore. The type of ice-cream he is planning to sell is artisanal ice-cream that attracts people from high-school students to middle-aged groups, who are interested in current trends. Mr. Smith would like to find out which specific location/area that currently has the least ice-cream stores or dessert shops to minimize his competition, as well as, to tap onto market not yet fully saturated to gain market share."
   ]
  },
  {
   "cell_type": "markdown",
   "metadata": {},
   "source": [
    "## DATA\n",
    "The first dataset required is the location data of Singapore by regions. The list of all postal codes of Singapore is found in: https://en.wikipedia.org/wiki/Postal_codes_in_Singapore. Using this dataset, we are able to identify the longitude and latitude coordinates of each postal codes. Using foursquare location api, we are able to identify the the venues within a certain radius of the location of the postal codes. Using this information, we then pull out all venues with the venue category of \"Ice Cream Shop\" and \"Dessert Shop\". Using the filtered list, we identify location with the most frequency (i.e. location with most 'Ice Cream Shop' and 'Dessert Shop' combined). Through this, we are able to identify the areas that are least saturated with ice-cream stores and dessert shop as required by Mr.Smith."
   ]
  },
  {
   "cell_type": "code",
   "execution_count": null,
   "metadata": {},
   "outputs": [],
   "source": []
  }
 ],
 "metadata": {
  "kernelspec": {
   "display_name": "Python 3",
   "language": "python",
   "name": "python3"
  },
  "language_info": {
   "codemirror_mode": {
    "name": "ipython",
    "version": 3
   },
   "file_extension": ".py",
   "mimetype": "text/x-python",
   "name": "python",
   "nbconvert_exporter": "python",
   "pygments_lexer": "ipython3",
   "version": "3.6.8"
  }
 },
 "nbformat": 4,
 "nbformat_minor": 2
}
